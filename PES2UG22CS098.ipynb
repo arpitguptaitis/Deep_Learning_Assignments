{
  "nbformat": 4,
  "nbformat_minor": 0,
  "metadata": {
    "colab": {
      "provenance": []
    },
    "kernelspec": {
      "name": "python3",
      "display_name": "Python 3"
    },
    "language_info": {
      "name": "python"
    }
  },
  "cells": [
    {
      "cell_type": "code",
      "source": [
        "!pip install pandas"
      ],
      "metadata": {
        "colab": {
          "base_uri": "https://localhost:8080/"
        },
        "id": "EvMtJQc_Ep1S",
        "outputId": "45ea5a24-02ee-4b58-f788-7dcdf24c3926"
      },
      "execution_count": 4,
      "outputs": [
        {
          "output_type": "stream",
          "name": "stdout",
          "text": [
            "Requirement already satisfied: pandas in /usr/local/lib/python3.10/dist-packages (2.2.2)\n",
            "Requirement already satisfied: numpy>=1.22.4 in /usr/local/lib/python3.10/dist-packages (from pandas) (1.26.4)\n",
            "Requirement already satisfied: python-dateutil>=2.8.2 in /usr/local/lib/python3.10/dist-packages (from pandas) (2.8.2)\n",
            "Requirement already satisfied: pytz>=2020.1 in /usr/local/lib/python3.10/dist-packages (from pandas) (2024.2)\n",
            "Requirement already satisfied: tzdata>=2022.7 in /usr/local/lib/python3.10/dist-packages (from pandas) (2024.2)\n",
            "Requirement already satisfied: six>=1.5 in /usr/local/lib/python3.10/dist-packages (from python-dateutil>=2.8.2->pandas) (1.16.0)\n"
          ]
        }
      ]
    },
    {
      "cell_type": "code",
      "source": [
        "!pip install librosa scikit-learn"
      ],
      "metadata": {
        "colab": {
          "base_uri": "https://localhost:8080/"
        },
        "id": "23NEsvYADuZW",
        "outputId": "ba6a4d5d-aaa7-4f0b-b42f-b85e4341de9a"
      },
      "execution_count": 1,
      "outputs": [
        {
          "output_type": "stream",
          "name": "stdout",
          "text": [
            "Requirement already satisfied: librosa in /usr/local/lib/python3.10/dist-packages (0.10.2.post1)\n",
            "Requirement already satisfied: scikit-learn in /usr/local/lib/python3.10/dist-packages (1.5.2)\n",
            "Requirement already satisfied: audioread>=2.1.9 in /usr/local/lib/python3.10/dist-packages (from librosa) (3.0.1)\n",
            "Requirement already satisfied: numpy!=1.22.0,!=1.22.1,!=1.22.2,>=1.20.3 in /usr/local/lib/python3.10/dist-packages (from librosa) (1.26.4)\n",
            "Requirement already satisfied: scipy>=1.2.0 in /usr/local/lib/python3.10/dist-packages (from librosa) (1.13.1)\n",
            "Requirement already satisfied: joblib>=0.14 in /usr/local/lib/python3.10/dist-packages (from librosa) (1.4.2)\n",
            "Requirement already satisfied: decorator>=4.3.0 in /usr/local/lib/python3.10/dist-packages (from librosa) (4.4.2)\n",
            "Requirement already satisfied: numba>=0.51.0 in /usr/local/lib/python3.10/dist-packages (from librosa) (0.60.0)\n",
            "Requirement already satisfied: soundfile>=0.12.1 in /usr/local/lib/python3.10/dist-packages (from librosa) (0.12.1)\n",
            "Requirement already satisfied: pooch>=1.1 in /usr/local/lib/python3.10/dist-packages (from librosa) (1.8.2)\n",
            "Requirement already satisfied: soxr>=0.3.2 in /usr/local/lib/python3.10/dist-packages (from librosa) (0.5.0.post1)\n",
            "Requirement already satisfied: typing-extensions>=4.1.1 in /usr/local/lib/python3.10/dist-packages (from librosa) (4.12.2)\n",
            "Requirement already satisfied: lazy-loader>=0.1 in /usr/local/lib/python3.10/dist-packages (from librosa) (0.4)\n",
            "Requirement already satisfied: msgpack>=1.0 in /usr/local/lib/python3.10/dist-packages (from librosa) (1.0.8)\n",
            "Requirement already satisfied: threadpoolctl>=3.1.0 in /usr/local/lib/python3.10/dist-packages (from scikit-learn) (3.5.0)\n",
            "Requirement already satisfied: packaging in /usr/local/lib/python3.10/dist-packages (from lazy-loader>=0.1->librosa) (24.1)\n",
            "Requirement already satisfied: llvmlite<0.44,>=0.43.0dev0 in /usr/local/lib/python3.10/dist-packages (from numba>=0.51.0->librosa) (0.43.0)\n",
            "Requirement already satisfied: platformdirs>=2.5.0 in /usr/local/lib/python3.10/dist-packages (from pooch>=1.1->librosa) (4.3.6)\n",
            "Requirement already satisfied: requests>=2.19.0 in /usr/local/lib/python3.10/dist-packages (from pooch>=1.1->librosa) (2.32.3)\n",
            "Requirement already satisfied: cffi>=1.0 in /usr/local/lib/python3.10/dist-packages (from soundfile>=0.12.1->librosa) (1.17.1)\n",
            "Requirement already satisfied: pycparser in /usr/local/lib/python3.10/dist-packages (from cffi>=1.0->soundfile>=0.12.1->librosa) (2.22)\n",
            "Requirement already satisfied: charset-normalizer<4,>=2 in /usr/local/lib/python3.10/dist-packages (from requests>=2.19.0->pooch>=1.1->librosa) (3.4.0)\n",
            "Requirement already satisfied: idna<4,>=2.5 in /usr/local/lib/python3.10/dist-packages (from requests>=2.19.0->pooch>=1.1->librosa) (3.10)\n",
            "Requirement already satisfied: urllib3<3,>=1.21.1 in /usr/local/lib/python3.10/dist-packages (from requests>=2.19.0->pooch>=1.1->librosa) (2.2.3)\n",
            "Requirement already satisfied: certifi>=2017.4.17 in /usr/local/lib/python3.10/dist-packages (from requests>=2.19.0->pooch>=1.1->librosa) (2024.8.30)\n"
          ]
        }
      ]
    },
    {
      "cell_type": "code",
      "execution_count": 2,
      "metadata": {
        "colab": {
          "base_uri": "https://localhost:8080/"
        },
        "id": "PUx3cnYNDnj5",
        "outputId": "a2079f02-53d8-4653-a31a-2a87121a249b"
      },
      "outputs": [
        {
          "output_type": "stream",
          "name": "stdout",
          "text": [
            "Mounted at /content/gdrive\n"
          ]
        }
      ],
      "source": [
        "from google.colab import drive\n",
        "drive.mount('/content/gdrive')"
      ]
    },
    {
      "cell_type": "code",
      "source": [
        "# Import necessary libraries\n",
        "import os\n",
        "import librosa\n",
        "import numpy as np\n",
        "import pandas as pd\n",
        "import matplotlib.pyplot as plt\n",
        "from sklearn.model_selection import train_test_split, KFold, cross_val_score, cross_val_predict\n",
        "from sklearn.ensemble import GradientBoostingClassifier\n",
        "from sklearn.metrics import accuracy_score, precision_recall_fscore_support, confusion_matrix, classification_report, ConfusionMatrixDisplay\n",
        "from sklearn.preprocessing import StandardScaler\n",
        "\n",
        "# Define the path to the \"Animals\" folder in your Google Drive\n",
        "base_path = '/content/gdrive/MyDrive/Animals'\n",
        "\n",
        "# Labels for the three categories\n",
        "categories = ['bird', 'cat', 'dog']\n",
        "\n",
        "# Function to extract MFCC features from an audio file\n",
        "def extract_mfcc(file_path):\n",
        "    audio_data, sample_rate = librosa.load(file_path, sr=None)  # Load the audio file\n",
        "    mfcc = librosa.feature.mfcc(y=audio_data, sr=sample_rate, n_mfcc=13)  # Extract 13 MFCC features\n",
        "    mfcc_mean = np.mean(mfcc.T, axis=0)  # Mean of MFCCs across time\n",
        "    return mfcc_mean\n",
        "\n",
        "# List to hold features and labels\n",
        "features = []\n",
        "labels = []\n",
        "file_names = []\n",
        "\n",
        "# Loop through each category (bird, cat, dog)\n",
        "for category in categories:\n",
        "    folder_path = os.path.join(base_path, category)  # Path to the specific animal folder\n",
        "    for file_name in os.listdir(folder_path):\n",
        "        if file_name.endswith('.wav'):  # Ensure we're only reading audio files\n",
        "            file_path = os.path.join(folder_path, file_name)\n",
        "            mfcc_features = extract_mfcc(file_path)\n",
        "            features.append(mfcc_features)\n",
        "            labels.append(category)\n",
        "            file_names.append(file_name)  # Store file name\n",
        "\n",
        "# Convert features and labels to numpy arrays\n",
        "features = np.array(features)\n",
        "labels = np.array(labels)\n",
        "\n",
        "# Scale the features\n",
        "scaler = StandardScaler()\n",
        "X_scaled = scaler.fit_transform(features)\n",
        "\n",
        "# Split the dataset\n",
        "X_train, X_test, y_train, y_test = train_test_split(X_scaled, labels, test_size=0.2, random_state=42)\n",
        "\n",
        "# Define K-fold cross-validation\n",
        "kf = KFold(n_splits=5, shuffle=True, random_state=42)\n",
        "\n",
        "# Use Gradient Boosting Classifier\n",
        "gb_classifier = GradientBoostingClassifier(n_estimators=100, learning_rate=0.1, max_depth=3, random_state=42)\n",
        "\n",
        "# Perform K-fold cross-validation\n",
        "y_pred_cv = cross_val_predict(gb_classifier, X_train, y_train, cv=kf)\n",
        "cv_scores = cross_val_score(gb_classifier, X_train, y_train, cv=kf, scoring='accuracy')\n",
        "\n",
        "# Calculate metrics for training set\n",
        "accuracy = accuracy_score(y_train, y_pred_cv)\n",
        "precision, recall, f1, _ = precision_recall_fscore_support(y_train, y_pred_cv, average='weighted')\n",
        "\n",
        "# Confusion matrix and classification report for training set\n",
        "confusion_mat = confusion_matrix(y_train, y_pred_cv)\n",
        "class_report = classification_report(y_train, y_pred_cv)\n",
        "\n",
        "# Fit the model on the entire training set\n",
        "gb_classifier.fit(X_train, y_train)\n",
        "\n",
        "# Evaluate on the test set\n",
        "y_pred_test = gb_classifier.predict(X_test)\n",
        "test_accuracy = accuracy_score(y_test, y_pred_test)\n",
        "test_class_report = classification_report(y_test, y_pred_test)\n",
        "\n",
        "# Print results\n",
        "print(f\"Cross-Validation Accuracy: {cv_scores.mean():.2f} ± {cv_scores.std():.2f}\")\n",
        "print(f\"Test Set Accuracy: {test_accuracy:.2f}\")\n",
        "print(\"\\nClassification Report (Train Set):\\n\", class_report)\n",
        "print(\"\\nClassification Report (Test Set):\\n\", test_class_report)\n",
        "\n",
        "# Confusion matrix display for training set\n",
        "cm_display = ConfusionMatrixDisplay(confusion_matrix=confusion_mat, display_labels=np.unique(labels))\n",
        "cm_display.plot(cmap='Blues')\n",
        "plt.title('Confusion Matrix (Training Set)')\n",
        "plt.show()\n"
      ],
      "metadata": {
        "colab": {
          "base_uri": "https://localhost:8080/",
          "height": 944
        },
        "id": "F5xYzM3XDn_P",
        "outputId": "e2762bc6-7369-4394-ee2c-85bdf8c6a82a"
      },
      "execution_count": 15,
      "outputs": [
        {
          "output_type": "stream",
          "name": "stdout",
          "text": [
            "Cross-Validation Accuracy: 0.77 ± 0.03\n",
            "Test Set Accuracy: 0.84\n",
            "\n",
            "Classification Report (Train Set):\n",
            "               precision    recall  f1-score   support\n",
            "\n",
            "        bird       0.82      0.80      0.81       151\n",
            "         cat       0.72      0.76      0.74       165\n",
            "         dog       0.77      0.74      0.76       172\n",
            "\n",
            "    accuracy                           0.77       488\n",
            "   macro avg       0.77      0.77      0.77       488\n",
            "weighted avg       0.77      0.77      0.77       488\n",
            "\n",
            "\n",
            "Classification Report (Test Set):\n",
            "               precision    recall  f1-score   support\n",
            "\n",
            "        bird       0.82      0.88      0.85        42\n",
            "         cat       0.85      0.83      0.84        42\n",
            "         dog       0.83      0.79      0.81        38\n",
            "\n",
            "    accuracy                           0.84       122\n",
            "   macro avg       0.84      0.83      0.83       122\n",
            "weighted avg       0.84      0.84      0.84       122\n",
            "\n"
          ]
        },
        {
          "output_type": "display_data",
          "data": {
            "text/plain": [
              "<Figure size 640x480 with 2 Axes>"
            ],
            "image/png": "[encoded data removed]"
          },
          "metadata": {}
        }
      ]
    }
  ]
}